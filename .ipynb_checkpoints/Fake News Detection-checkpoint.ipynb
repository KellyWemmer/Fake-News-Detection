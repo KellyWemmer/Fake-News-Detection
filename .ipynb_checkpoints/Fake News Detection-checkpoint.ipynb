{
 "cells": [
  {
   "cell_type": "markdown",
   "metadata": {},
   "source": [
    "Data downloaded from https://www.kaggle.com/c/fake-news/data?select=test.csv\n",
    "\n",
    "train.csv: A full training dataset with the following attributes:\n",
    "\n",
    "    id: unique id for a news article\n",
    "    title: the title of a news article\n",
    "    author: author of the news article\n",
    "    text: the text of the article; could be incomplete\n",
    "    label: a label that marks the article as potentially unreliable\n",
    "        1: unreliable\n",
    "        0: reliable\n"
   ]
  },
  {
   "cell_type": "code",
   "execution_count": 262,
   "metadata": {},
   "outputs": [],
   "source": [
    "import pandas as pd\n",
    "import numpy as np\n",
    "import matplotlib.pyplot as plt\n",
    "%matplotlib inline\n",
    "import seaborn as sns"
   ]
  },
  {
   "cell_type": "code",
   "execution_count": 263,
   "metadata": {},
   "outputs": [],
   "source": [
    "fake = pd.read_csv('news/Fake.csv')\n",
    "true = pd.read_csv('news/True.csv')"
   ]
  },
  {
   "cell_type": "code",
   "execution_count": 264,
   "metadata": {},
   "outputs": [
    {
     "data": {
      "text/html": [
       "<div>\n",
       "<style scoped>\n",
       "    .dataframe tbody tr th:only-of-type {\n",
       "        vertical-align: middle;\n",
       "    }\n",
       "\n",
       "    .dataframe tbody tr th {\n",
       "        vertical-align: top;\n",
       "    }\n",
       "\n",
       "    .dataframe thead th {\n",
       "        text-align: right;\n",
       "    }\n",
       "</style>\n",
       "<table border=\"1\" class=\"dataframe\">\n",
       "  <thead>\n",
       "    <tr style=\"text-align: right;\">\n",
       "      <th></th>\n",
       "      <th>title</th>\n",
       "      <th>text</th>\n",
       "      <th>subject</th>\n",
       "      <th>date</th>\n",
       "    </tr>\n",
       "  </thead>\n",
       "  <tbody>\n",
       "    <tr>\n",
       "      <th>0</th>\n",
       "      <td>Donald Trump Sends Out Embarrassing New Year’...</td>\n",
       "      <td>Donald Trump just couldn t wish all Americans ...</td>\n",
       "      <td>News</td>\n",
       "      <td>December 31, 2017</td>\n",
       "    </tr>\n",
       "    <tr>\n",
       "      <th>1</th>\n",
       "      <td>Drunk Bragging Trump Staffer Started Russian ...</td>\n",
       "      <td>House Intelligence Committee Chairman Devin Nu...</td>\n",
       "      <td>News</td>\n",
       "      <td>December 31, 2017</td>\n",
       "    </tr>\n",
       "    <tr>\n",
       "      <th>2</th>\n",
       "      <td>Sheriff David Clarke Becomes An Internet Joke...</td>\n",
       "      <td>On Friday, it was revealed that former Milwauk...</td>\n",
       "      <td>News</td>\n",
       "      <td>December 30, 2017</td>\n",
       "    </tr>\n",
       "    <tr>\n",
       "      <th>3</th>\n",
       "      <td>Trump Is So Obsessed He Even Has Obama’s Name...</td>\n",
       "      <td>On Christmas day, Donald Trump announced that ...</td>\n",
       "      <td>News</td>\n",
       "      <td>December 29, 2017</td>\n",
       "    </tr>\n",
       "    <tr>\n",
       "      <th>4</th>\n",
       "      <td>Pope Francis Just Called Out Donald Trump Dur...</td>\n",
       "      <td>Pope Francis used his annual Christmas Day mes...</td>\n",
       "      <td>News</td>\n",
       "      <td>December 25, 2017</td>\n",
       "    </tr>\n",
       "  </tbody>\n",
       "</table>\n",
       "</div>"
      ],
      "text/plain": [
       "                                               title  \\\n",
       "0   Donald Trump Sends Out Embarrassing New Year’...   \n",
       "1   Drunk Bragging Trump Staffer Started Russian ...   \n",
       "2   Sheriff David Clarke Becomes An Internet Joke...   \n",
       "3   Trump Is So Obsessed He Even Has Obama’s Name...   \n",
       "4   Pope Francis Just Called Out Donald Trump Dur...   \n",
       "\n",
       "                                                text subject  \\\n",
       "0  Donald Trump just couldn t wish all Americans ...    News   \n",
       "1  House Intelligence Committee Chairman Devin Nu...    News   \n",
       "2  On Friday, it was revealed that former Milwauk...    News   \n",
       "3  On Christmas day, Donald Trump announced that ...    News   \n",
       "4  Pope Francis used his annual Christmas Day mes...    News   \n",
       "\n",
       "                date  \n",
       "0  December 31, 2017  \n",
       "1  December 31, 2017  \n",
       "2  December 30, 2017  \n",
       "3  December 29, 2017  \n",
       "4  December 25, 2017  "
      ]
     },
     "execution_count": 264,
     "metadata": {},
     "output_type": "execute_result"
    }
   ],
   "source": [
    "fake.head()"
   ]
  },
  {
   "cell_type": "code",
   "execution_count": 265,
   "metadata": {},
   "outputs": [
    {
     "name": "stdout",
     "output_type": "stream",
     "text": [
      "<class 'pandas.core.frame.DataFrame'>\n",
      "RangeIndex: 23481 entries, 0 to 23480\n",
      "Data columns (total 4 columns):\n",
      " #   Column   Non-Null Count  Dtype \n",
      "---  ------   --------------  ----- \n",
      " 0   title    23481 non-null  object\n",
      " 1   text     23481 non-null  object\n",
      " 2   subject  23481 non-null  object\n",
      " 3   date     23481 non-null  object\n",
      "dtypes: object(4)\n",
      "memory usage: 733.9+ KB\n"
     ]
    }
   ],
   "source": [
    "fake.info()"
   ]
  },
  {
   "cell_type": "code",
   "execution_count": 266,
   "metadata": {},
   "outputs": [
    {
     "data": {
      "text/html": [
       "<div>\n",
       "<style scoped>\n",
       "    .dataframe tbody tr th:only-of-type {\n",
       "        vertical-align: middle;\n",
       "    }\n",
       "\n",
       "    .dataframe tbody tr th {\n",
       "        vertical-align: top;\n",
       "    }\n",
       "\n",
       "    .dataframe thead th {\n",
       "        text-align: right;\n",
       "    }\n",
       "</style>\n",
       "<table border=\"1\" class=\"dataframe\">\n",
       "  <thead>\n",
       "    <tr style=\"text-align: right;\">\n",
       "      <th></th>\n",
       "      <th>title</th>\n",
       "      <th>text</th>\n",
       "      <th>subject</th>\n",
       "      <th>date</th>\n",
       "    </tr>\n",
       "  </thead>\n",
       "  <tbody>\n",
       "    <tr>\n",
       "      <th>0</th>\n",
       "      <td>As U.S. budget fight looms, Republicans flip t...</td>\n",
       "      <td>WASHINGTON (Reuters) - The head of a conservat...</td>\n",
       "      <td>politicsNews</td>\n",
       "      <td>December 31, 2017</td>\n",
       "    </tr>\n",
       "    <tr>\n",
       "      <th>1</th>\n",
       "      <td>U.S. military to accept transgender recruits o...</td>\n",
       "      <td>WASHINGTON (Reuters) - Transgender people will...</td>\n",
       "      <td>politicsNews</td>\n",
       "      <td>December 29, 2017</td>\n",
       "    </tr>\n",
       "    <tr>\n",
       "      <th>2</th>\n",
       "      <td>Senior U.S. Republican senator: 'Let Mr. Muell...</td>\n",
       "      <td>WASHINGTON (Reuters) - The special counsel inv...</td>\n",
       "      <td>politicsNews</td>\n",
       "      <td>December 31, 2017</td>\n",
       "    </tr>\n",
       "    <tr>\n",
       "      <th>3</th>\n",
       "      <td>FBI Russia probe helped by Australian diplomat...</td>\n",
       "      <td>WASHINGTON (Reuters) - Trump campaign adviser ...</td>\n",
       "      <td>politicsNews</td>\n",
       "      <td>December 30, 2017</td>\n",
       "    </tr>\n",
       "    <tr>\n",
       "      <th>4</th>\n",
       "      <td>Trump wants Postal Service to charge 'much mor...</td>\n",
       "      <td>SEATTLE/WASHINGTON (Reuters) - President Donal...</td>\n",
       "      <td>politicsNews</td>\n",
       "      <td>December 29, 2017</td>\n",
       "    </tr>\n",
       "  </tbody>\n",
       "</table>\n",
       "</div>"
      ],
      "text/plain": [
       "                                               title  \\\n",
       "0  As U.S. budget fight looms, Republicans flip t...   \n",
       "1  U.S. military to accept transgender recruits o...   \n",
       "2  Senior U.S. Republican senator: 'Let Mr. Muell...   \n",
       "3  FBI Russia probe helped by Australian diplomat...   \n",
       "4  Trump wants Postal Service to charge 'much mor...   \n",
       "\n",
       "                                                text       subject  \\\n",
       "0  WASHINGTON (Reuters) - The head of a conservat...  politicsNews   \n",
       "1  WASHINGTON (Reuters) - Transgender people will...  politicsNews   \n",
       "2  WASHINGTON (Reuters) - The special counsel inv...  politicsNews   \n",
       "3  WASHINGTON (Reuters) - Trump campaign adviser ...  politicsNews   \n",
       "4  SEATTLE/WASHINGTON (Reuters) - President Donal...  politicsNews   \n",
       "\n",
       "                 date  \n",
       "0  December 31, 2017   \n",
       "1  December 29, 2017   \n",
       "2  December 31, 2017   \n",
       "3  December 30, 2017   \n",
       "4  December 29, 2017   "
      ]
     },
     "execution_count": 266,
     "metadata": {},
     "output_type": "execute_result"
    }
   ],
   "source": [
    "true.head()"
   ]
  },
  {
   "cell_type": "code",
   "execution_count": 267,
   "metadata": {},
   "outputs": [
    {
     "name": "stdout",
     "output_type": "stream",
     "text": [
      "<class 'pandas.core.frame.DataFrame'>\n",
      "RangeIndex: 21417 entries, 0 to 21416\n",
      "Data columns (total 4 columns):\n",
      " #   Column   Non-Null Count  Dtype \n",
      "---  ------   --------------  ----- \n",
      " 0   title    21417 non-null  object\n",
      " 1   text     21417 non-null  object\n",
      " 2   subject  21417 non-null  object\n",
      " 3   date     21417 non-null  object\n",
      "dtypes: object(4)\n",
      "memory usage: 669.4+ KB\n"
     ]
    }
   ],
   "source": [
    "true.info()"
   ]
  },
  {
   "cell_type": "markdown",
   "metadata": {},
   "source": [
    "### Cleaning"
   ]
  },
  {
   "cell_type": "code",
   "execution_count": 268,
   "metadata": {},
   "outputs": [],
   "source": [
    "#track fake vs true news\n",
    "true['target'] = 'true'\n",
    "fake['target'] = 'false'"
   ]
  },
  {
   "cell_type": "code",
   "execution_count": 269,
   "metadata": {},
   "outputs": [
    {
     "data": {
      "text/html": [
       "<div>\n",
       "<style scoped>\n",
       "    .dataframe tbody tr th:only-of-type {\n",
       "        vertical-align: middle;\n",
       "    }\n",
       "\n",
       "    .dataframe tbody tr th {\n",
       "        vertical-align: top;\n",
       "    }\n",
       "\n",
       "    .dataframe thead th {\n",
       "        text-align: right;\n",
       "    }\n",
       "</style>\n",
       "<table border=\"1\" class=\"dataframe\">\n",
       "  <thead>\n",
       "    <tr style=\"text-align: right;\">\n",
       "      <th></th>\n",
       "      <th>title</th>\n",
       "      <th>text</th>\n",
       "      <th>subject</th>\n",
       "      <th>date</th>\n",
       "      <th>target</th>\n",
       "    </tr>\n",
       "  </thead>\n",
       "  <tbody>\n",
       "    <tr>\n",
       "      <th>0</th>\n",
       "      <td>As U.S. budget fight looms, Republicans flip t...</td>\n",
       "      <td>WASHINGTON (Reuters) - The head of a conservat...</td>\n",
       "      <td>politicsNews</td>\n",
       "      <td>December 31, 2017</td>\n",
       "      <td>true</td>\n",
       "    </tr>\n",
       "    <tr>\n",
       "      <th>1</th>\n",
       "      <td>U.S. military to accept transgender recruits o...</td>\n",
       "      <td>WASHINGTON (Reuters) - Transgender people will...</td>\n",
       "      <td>politicsNews</td>\n",
       "      <td>December 29, 2017</td>\n",
       "      <td>true</td>\n",
       "    </tr>\n",
       "    <tr>\n",
       "      <th>2</th>\n",
       "      <td>Senior U.S. Republican senator: 'Let Mr. Muell...</td>\n",
       "      <td>WASHINGTON (Reuters) - The special counsel inv...</td>\n",
       "      <td>politicsNews</td>\n",
       "      <td>December 31, 2017</td>\n",
       "      <td>true</td>\n",
       "    </tr>\n",
       "    <tr>\n",
       "      <th>3</th>\n",
       "      <td>FBI Russia probe helped by Australian diplomat...</td>\n",
       "      <td>WASHINGTON (Reuters) - Trump campaign adviser ...</td>\n",
       "      <td>politicsNews</td>\n",
       "      <td>December 30, 2017</td>\n",
       "      <td>true</td>\n",
       "    </tr>\n",
       "    <tr>\n",
       "      <th>4</th>\n",
       "      <td>Trump wants Postal Service to charge 'much mor...</td>\n",
       "      <td>SEATTLE/WASHINGTON (Reuters) - President Donal...</td>\n",
       "      <td>politicsNews</td>\n",
       "      <td>December 29, 2017</td>\n",
       "      <td>true</td>\n",
       "    </tr>\n",
       "  </tbody>\n",
       "</table>\n",
       "</div>"
      ],
      "text/plain": [
       "                                               title  \\\n",
       "0  As U.S. budget fight looms, Republicans flip t...   \n",
       "1  U.S. military to accept transgender recruits o...   \n",
       "2  Senior U.S. Republican senator: 'Let Mr. Muell...   \n",
       "3  FBI Russia probe helped by Australian diplomat...   \n",
       "4  Trump wants Postal Service to charge 'much mor...   \n",
       "\n",
       "                                                text       subject  \\\n",
       "0  WASHINGTON (Reuters) - The head of a conservat...  politicsNews   \n",
       "1  WASHINGTON (Reuters) - Transgender people will...  politicsNews   \n",
       "2  WASHINGTON (Reuters) - The special counsel inv...  politicsNews   \n",
       "3  WASHINGTON (Reuters) - Trump campaign adviser ...  politicsNews   \n",
       "4  SEATTLE/WASHINGTON (Reuters) - President Donal...  politicsNews   \n",
       "\n",
       "                 date target  \n",
       "0  December 31, 2017    true  \n",
       "1  December 29, 2017    true  \n",
       "2  December 31, 2017    true  \n",
       "3  December 30, 2017    true  \n",
       "4  December 29, 2017    true  "
      ]
     },
     "execution_count": 269,
     "metadata": {},
     "output_type": "execute_result"
    }
   ],
   "source": [
    "#Combine both dataframes\n",
    "df_combined = pd.concat([true, fake])\n",
    "df_combined.head()"
   ]
  },
  {
   "cell_type": "code",
   "execution_count": 270,
   "metadata": {},
   "outputs": [
    {
     "data": {
      "text/plain": [
       "false    23481\n",
       "true     21417\n",
       "Name: target, dtype: int64"
      ]
     },
     "execution_count": 270,
     "metadata": {},
     "output_type": "execute_result"
    }
   ],
   "source": [
    "df_combined.target.value_counts()"
   ]
  },
  {
   "cell_type": "code",
   "execution_count": 271,
   "metadata": {},
   "outputs": [],
   "source": [
    "df_combined['total_text'] = df_combined['title'] + ' ' + df_combined['text']"
   ]
  },
  {
   "cell_type": "code",
   "execution_count": 272,
   "metadata": {},
   "outputs": [
    {
     "data": {
      "text/html": [
       "<div>\n",
       "<style scoped>\n",
       "    .dataframe tbody tr th:only-of-type {\n",
       "        vertical-align: middle;\n",
       "    }\n",
       "\n",
       "    .dataframe tbody tr th {\n",
       "        vertical-align: top;\n",
       "    }\n",
       "\n",
       "    .dataframe thead th {\n",
       "        text-align: right;\n",
       "    }\n",
       "</style>\n",
       "<table border=\"1\" class=\"dataframe\">\n",
       "  <thead>\n",
       "    <tr style=\"text-align: right;\">\n",
       "      <th></th>\n",
       "      <th>title</th>\n",
       "      <th>text</th>\n",
       "      <th>subject</th>\n",
       "      <th>date</th>\n",
       "      <th>target</th>\n",
       "      <th>total_text</th>\n",
       "    </tr>\n",
       "  </thead>\n",
       "  <tbody>\n",
       "  </tbody>\n",
       "</table>\n",
       "</div>"
      ],
      "text/plain": [
       "Empty DataFrame\n",
       "Columns: [title, text, subject, date, target, total_text]\n",
       "Index: []"
      ]
     },
     "execution_count": 272,
     "metadata": {},
     "output_type": "execute_result"
    }
   ],
   "source": [
    "#Search for null values\n",
    "df_combined[df_combined['total_text'].isnull()]"
   ]
  },
  {
   "cell_type": "code",
   "execution_count": 273,
   "metadata": {},
   "outputs": [
    {
     "data": {
      "text/html": [
       "<div>\n",
       "<style scoped>\n",
       "    .dataframe tbody tr th:only-of-type {\n",
       "        vertical-align: middle;\n",
       "    }\n",
       "\n",
       "    .dataframe tbody tr th {\n",
       "        vertical-align: top;\n",
       "    }\n",
       "\n",
       "    .dataframe thead th {\n",
       "        text-align: right;\n",
       "    }\n",
       "</style>\n",
       "<table border=\"1\" class=\"dataframe\">\n",
       "  <thead>\n",
       "    <tr style=\"text-align: right;\">\n",
       "      <th></th>\n",
       "      <th>subject</th>\n",
       "      <th>target</th>\n",
       "      <th>total_text</th>\n",
       "    </tr>\n",
       "  </thead>\n",
       "  <tbody>\n",
       "    <tr>\n",
       "      <th>0</th>\n",
       "      <td>politicsNews</td>\n",
       "      <td>true</td>\n",
       "      <td>As U.S. budget fight looms, Republicans flip t...</td>\n",
       "    </tr>\n",
       "    <tr>\n",
       "      <th>1</th>\n",
       "      <td>politicsNews</td>\n",
       "      <td>true</td>\n",
       "      <td>U.S. military to accept transgender recruits o...</td>\n",
       "    </tr>\n",
       "    <tr>\n",
       "      <th>2</th>\n",
       "      <td>politicsNews</td>\n",
       "      <td>true</td>\n",
       "      <td>Senior U.S. Republican senator: 'Let Mr. Muell...</td>\n",
       "    </tr>\n",
       "    <tr>\n",
       "      <th>3</th>\n",
       "      <td>politicsNews</td>\n",
       "      <td>true</td>\n",
       "      <td>FBI Russia probe helped by Australian diplomat...</td>\n",
       "    </tr>\n",
       "    <tr>\n",
       "      <th>4</th>\n",
       "      <td>politicsNews</td>\n",
       "      <td>true</td>\n",
       "      <td>Trump wants Postal Service to charge 'much mor...</td>\n",
       "    </tr>\n",
       "  </tbody>\n",
       "</table>\n",
       "</div>"
      ],
      "text/plain": [
       "        subject target                                         total_text\n",
       "0  politicsNews   true  As U.S. budget fight looms, Republicans flip t...\n",
       "1  politicsNews   true  U.S. military to accept transgender recruits o...\n",
       "2  politicsNews   true  Senior U.S. Republican senator: 'Let Mr. Muell...\n",
       "3  politicsNews   true  FBI Russia probe helped by Australian diplomat...\n",
       "4  politicsNews   true  Trump wants Postal Service to charge 'much mor..."
      ]
     },
     "execution_count": 273,
     "metadata": {},
     "output_type": "execute_result"
    }
   ],
   "source": [
    "#Remove columns that won't be used\n",
    "df_combined = df_combined.drop(['title', 'text', 'date'], axis = 1)\n",
    "df_combined.head()"
   ]
  },
  {
   "cell_type": "code",
   "execution_count": 274,
   "metadata": {},
   "outputs": [],
   "source": [
    "# Convert all but U.S to lowercase\n",
    "\n",
    "specialwords = ['U.S.']\n",
    "\n",
    "toLower = lambda x: \" \".join( a if a in specialwords else a.lower() for a in x.split() )\n",
    "                             \n",
    "df_combined['total_text'] = df_combined['total_text'].apply(toLower)"
   ]
  },
  {
   "cell_type": "code",
   "execution_count": 275,
   "metadata": {},
   "outputs": [
    {
     "data": {
      "text/html": [
       "<div>\n",
       "<style scoped>\n",
       "    .dataframe tbody tr th:only-of-type {\n",
       "        vertical-align: middle;\n",
       "    }\n",
       "\n",
       "    .dataframe tbody tr th {\n",
       "        vertical-align: top;\n",
       "    }\n",
       "\n",
       "    .dataframe thead th {\n",
       "        text-align: right;\n",
       "    }\n",
       "</style>\n",
       "<table border=\"1\" class=\"dataframe\">\n",
       "  <thead>\n",
       "    <tr style=\"text-align: right;\">\n",
       "      <th></th>\n",
       "      <th>subject</th>\n",
       "      <th>target</th>\n",
       "      <th>total_text</th>\n",
       "    </tr>\n",
       "  </thead>\n",
       "  <tbody>\n",
       "    <tr>\n",
       "      <th>0</th>\n",
       "      <td>politicsNews</td>\n",
       "      <td>true</td>\n",
       "      <td>as U.S. budget fight looms, republicans flip t...</td>\n",
       "    </tr>\n",
       "    <tr>\n",
       "      <th>1</th>\n",
       "      <td>politicsNews</td>\n",
       "      <td>true</td>\n",
       "      <td>U.S. military to accept transgender recruits o...</td>\n",
       "    </tr>\n",
       "    <tr>\n",
       "      <th>2</th>\n",
       "      <td>politicsNews</td>\n",
       "      <td>true</td>\n",
       "      <td>senior U.S. republican senator: 'let mr. muell...</td>\n",
       "    </tr>\n",
       "    <tr>\n",
       "      <th>3</th>\n",
       "      <td>politicsNews</td>\n",
       "      <td>true</td>\n",
       "      <td>fbi russia probe helped by australian diplomat...</td>\n",
       "    </tr>\n",
       "    <tr>\n",
       "      <th>4</th>\n",
       "      <td>politicsNews</td>\n",
       "      <td>true</td>\n",
       "      <td>trump wants postal service to charge 'much mor...</td>\n",
       "    </tr>\n",
       "  </tbody>\n",
       "</table>\n",
       "</div>"
      ],
      "text/plain": [
       "        subject target                                         total_text\n",
       "0  politicsNews   true  as U.S. budget fight looms, republicans flip t...\n",
       "1  politicsNews   true  U.S. military to accept transgender recruits o...\n",
       "2  politicsNews   true  senior U.S. republican senator: 'let mr. muell...\n",
       "3  politicsNews   true  fbi russia probe helped by australian diplomat...\n",
       "4  politicsNews   true  trump wants postal service to charge 'much mor..."
      ]
     },
     "execution_count": 275,
     "metadata": {},
     "output_type": "execute_result"
    }
   ],
   "source": [
    "df_combined.head()"
   ]
  },
  {
   "cell_type": "code",
   "execution_count": 276,
   "metadata": {},
   "outputs": [
    {
     "data": {
      "text/html": [
       "<div>\n",
       "<style scoped>\n",
       "    .dataframe tbody tr th:only-of-type {\n",
       "        vertical-align: middle;\n",
       "    }\n",
       "\n",
       "    .dataframe tbody tr th {\n",
       "        vertical-align: top;\n",
       "    }\n",
       "\n",
       "    .dataframe thead th {\n",
       "        text-align: right;\n",
       "    }\n",
       "</style>\n",
       "<table border=\"1\" class=\"dataframe\">\n",
       "  <thead>\n",
       "    <tr style=\"text-align: right;\">\n",
       "      <th></th>\n",
       "      <th>subject</th>\n",
       "      <th>target</th>\n",
       "      <th>total_text</th>\n",
       "    </tr>\n",
       "  </thead>\n",
       "  <tbody>\n",
       "    <tr>\n",
       "      <th>0</th>\n",
       "      <td>politicsNews</td>\n",
       "      <td>true</td>\n",
       "      <td>as US budget fight looms republicans flip thei...</td>\n",
       "    </tr>\n",
       "    <tr>\n",
       "      <th>1</th>\n",
       "      <td>politicsNews</td>\n",
       "      <td>true</td>\n",
       "      <td>US military to accept transgender recruits on ...</td>\n",
       "    </tr>\n",
       "    <tr>\n",
       "      <th>2</th>\n",
       "      <td>politicsNews</td>\n",
       "      <td>true</td>\n",
       "      <td>senior US republican senator let mr mueller do...</td>\n",
       "    </tr>\n",
       "    <tr>\n",
       "      <th>3</th>\n",
       "      <td>politicsNews</td>\n",
       "      <td>true</td>\n",
       "      <td>fbi russia probe helped by australian diplomat...</td>\n",
       "    </tr>\n",
       "    <tr>\n",
       "      <th>4</th>\n",
       "      <td>politicsNews</td>\n",
       "      <td>true</td>\n",
       "      <td>trump wants postal service to charge much more...</td>\n",
       "    </tr>\n",
       "    <tr>\n",
       "      <th>...</th>\n",
       "      <td>...</td>\n",
       "      <td>...</td>\n",
       "      <td>...</td>\n",
       "    </tr>\n",
       "    <tr>\n",
       "      <th>23476</th>\n",
       "      <td>Middle-east</td>\n",
       "      <td>false</td>\n",
       "      <td>mcpain john mccain furious that iran treated u...</td>\n",
       "    </tr>\n",
       "    <tr>\n",
       "      <th>23477</th>\n",
       "      <td>Middle-east</td>\n",
       "      <td>false</td>\n",
       "      <td>justice yahoo settles email privacy classactio...</td>\n",
       "    </tr>\n",
       "    <tr>\n",
       "      <th>23478</th>\n",
       "      <td>Middle-east</td>\n",
       "      <td>false</td>\n",
       "      <td>sunnistan us and allied safe zone plan to take...</td>\n",
       "    </tr>\n",
       "    <tr>\n",
       "      <th>23479</th>\n",
       "      <td>Middle-east</td>\n",
       "      <td>false</td>\n",
       "      <td>how to blow 700 million al jazeera america fin...</td>\n",
       "    </tr>\n",
       "    <tr>\n",
       "      <th>23480</th>\n",
       "      <td>Middle-east</td>\n",
       "      <td>false</td>\n",
       "      <td>10 US navy sailors held by iranian military  s...</td>\n",
       "    </tr>\n",
       "  </tbody>\n",
       "</table>\n",
       "<p>44898 rows × 3 columns</p>\n",
       "</div>"
      ],
      "text/plain": [
       "            subject target                                         total_text\n",
       "0      politicsNews   true  as US budget fight looms republicans flip thei...\n",
       "1      politicsNews   true  US military to accept transgender recruits on ...\n",
       "2      politicsNews   true  senior US republican senator let mr mueller do...\n",
       "3      politicsNews   true  fbi russia probe helped by australian diplomat...\n",
       "4      politicsNews   true  trump wants postal service to charge much more...\n",
       "...             ...    ...                                                ...\n",
       "23476   Middle-east  false  mcpain john mccain furious that iran treated u...\n",
       "23477   Middle-east  false  justice yahoo settles email privacy classactio...\n",
       "23478   Middle-east  false  sunnistan us and allied safe zone plan to take...\n",
       "23479   Middle-east  false  how to blow 700 million al jazeera america fin...\n",
       "23480   Middle-east  false  10 US navy sailors held by iranian military  s...\n",
       "\n",
       "[44898 rows x 3 columns]"
      ]
     },
     "execution_count": 276,
     "metadata": {},
     "output_type": "execute_result"
    }
   ],
   "source": [
    "# Remove punctuation\n",
    "df_combined['total_text'] = df_combined['total_text'].str.replace('[^\\w\\s]','')\n",
    "df_combined"
   ]
  },
  {
   "cell_type": "code",
   "execution_count": 277,
   "metadata": {},
   "outputs": [
    {
     "name": "stderr",
     "output_type": "stream",
     "text": [
      "[nltk_data] Downloading package stopwords to\n",
      "[nltk_data]     C:\\Users\\kelly\\AppData\\Roaming\\nltk_data...\n",
      "[nltk_data]   Package stopwords is already up-to-date!\n"
     ]
    }
   ],
   "source": [
    "#Remove stopwords\n",
    "import nltk\n",
    "nltk.download('stopwords')\n",
    "from nltk.corpus import stopwords\n",
    "stop = stopwords.words('english')\n",
    "\n",
    "df_combined['total_text'] = df_combined['total_text'].apply(lambda x: ' '.join([word for word in x.split() if word not in (stop)]))"
   ]
  },
  {
   "cell_type": "code",
   "execution_count": 278,
   "metadata": {},
   "outputs": [
    {
     "data": {
      "text/html": [
       "<div>\n",
       "<style scoped>\n",
       "    .dataframe tbody tr th:only-of-type {\n",
       "        vertical-align: middle;\n",
       "    }\n",
       "\n",
       "    .dataframe tbody tr th {\n",
       "        vertical-align: top;\n",
       "    }\n",
       "\n",
       "    .dataframe thead th {\n",
       "        text-align: right;\n",
       "    }\n",
       "</style>\n",
       "<table border=\"1\" class=\"dataframe\">\n",
       "  <thead>\n",
       "    <tr style=\"text-align: right;\">\n",
       "      <th></th>\n",
       "      <th>subject</th>\n",
       "      <th>target</th>\n",
       "      <th>total_text</th>\n",
       "    </tr>\n",
       "  </thead>\n",
       "  <tbody>\n",
       "    <tr>\n",
       "      <th>0</th>\n",
       "      <td>politicsNews</td>\n",
       "      <td>true</td>\n",
       "      <td>US budget fight looms republicans flip fiscal ...</td>\n",
       "    </tr>\n",
       "    <tr>\n",
       "      <th>1</th>\n",
       "      <td>politicsNews</td>\n",
       "      <td>true</td>\n",
       "      <td>US military accept transgender recruits monday...</td>\n",
       "    </tr>\n",
       "    <tr>\n",
       "      <th>2</th>\n",
       "      <td>politicsNews</td>\n",
       "      <td>true</td>\n",
       "      <td>senior US republican senator let mr mueller jo...</td>\n",
       "    </tr>\n",
       "    <tr>\n",
       "      <th>3</th>\n",
       "      <td>politicsNews</td>\n",
       "      <td>true</td>\n",
       "      <td>fbi russia probe helped australian diplomat ti...</td>\n",
       "    </tr>\n",
       "    <tr>\n",
       "      <th>4</th>\n",
       "      <td>politicsNews</td>\n",
       "      <td>true</td>\n",
       "      <td>trump wants postal service charge much amazon ...</td>\n",
       "    </tr>\n",
       "    <tr>\n",
       "      <th>5</th>\n",
       "      <td>politicsNews</td>\n",
       "      <td>true</td>\n",
       "      <td>white house congress prepare talks spending im...</td>\n",
       "    </tr>\n",
       "    <tr>\n",
       "      <th>6</th>\n",
       "      <td>politicsNews</td>\n",
       "      <td>true</td>\n",
       "      <td>trump says russia probe fair timeline unclear ...</td>\n",
       "    </tr>\n",
       "    <tr>\n",
       "      <th>7</th>\n",
       "      <td>politicsNews</td>\n",
       "      <td>true</td>\n",
       "      <td>factbox trump twitter dec 29 approval rating a...</td>\n",
       "    </tr>\n",
       "    <tr>\n",
       "      <th>8</th>\n",
       "      <td>politicsNews</td>\n",
       "      <td>true</td>\n",
       "      <td>trump twitter dec 28 global warming following ...</td>\n",
       "    </tr>\n",
       "    <tr>\n",
       "      <th>9</th>\n",
       "      <td>politicsNews</td>\n",
       "      <td>true</td>\n",
       "      <td>alabama official certify senatorelect jones to...</td>\n",
       "    </tr>\n",
       "    <tr>\n",
       "      <th>10</th>\n",
       "      <td>politicsNews</td>\n",
       "      <td>true</td>\n",
       "      <td>jones certified US senate winner despite moore...</td>\n",
       "    </tr>\n",
       "    <tr>\n",
       "      <th>11</th>\n",
       "      <td>politicsNews</td>\n",
       "      <td>true</td>\n",
       "      <td>new york governor questions constitutionality ...</td>\n",
       "    </tr>\n",
       "    <tr>\n",
       "      <th>12</th>\n",
       "      <td>politicsNews</td>\n",
       "      <td>true</td>\n",
       "      <td>factbox trump twitter dec 28 vanity fair hilla...</td>\n",
       "    </tr>\n",
       "    <tr>\n",
       "      <th>13</th>\n",
       "      <td>politicsNews</td>\n",
       "      <td>true</td>\n",
       "      <td>trump twitter dec 27 trump iraq syria followin...</td>\n",
       "    </tr>\n",
       "    <tr>\n",
       "      <th>14</th>\n",
       "      <td>politicsNews</td>\n",
       "      <td>true</td>\n",
       "      <td>man says delivered manure mnuchin protest new ...</td>\n",
       "    </tr>\n",
       "    <tr>\n",
       "      <th>15</th>\n",
       "      <td>politicsNews</td>\n",
       "      <td>true</td>\n",
       "      <td>virginia officials postpone lottery drawing de...</td>\n",
       "    </tr>\n",
       "    <tr>\n",
       "      <th>16</th>\n",
       "      <td>politicsNews</td>\n",
       "      <td>true</td>\n",
       "      <td>US lawmakers question businessman 2016 trump t...</td>\n",
       "    </tr>\n",
       "    <tr>\n",
       "      <th>17</th>\n",
       "      <td>politicsNews</td>\n",
       "      <td>true</td>\n",
       "      <td>trump twitter dec 26 hillary clinton tax cut b...</td>\n",
       "    </tr>\n",
       "    <tr>\n",
       "      <th>18</th>\n",
       "      <td>politicsNews</td>\n",
       "      <td>true</td>\n",
       "      <td>US appeals court rejects challenge trump voter...</td>\n",
       "    </tr>\n",
       "    <tr>\n",
       "      <th>19</th>\n",
       "      <td>politicsNews</td>\n",
       "      <td>true</td>\n",
       "      <td>treasury secretary mnuchin sent giftwrapped bo...</td>\n",
       "    </tr>\n",
       "  </tbody>\n",
       "</table>\n",
       "</div>"
      ],
      "text/plain": [
       "         subject target                                         total_text\n",
       "0   politicsNews   true  US budget fight looms republicans flip fiscal ...\n",
       "1   politicsNews   true  US military accept transgender recruits monday...\n",
       "2   politicsNews   true  senior US republican senator let mr mueller jo...\n",
       "3   politicsNews   true  fbi russia probe helped australian diplomat ti...\n",
       "4   politicsNews   true  trump wants postal service charge much amazon ...\n",
       "5   politicsNews   true  white house congress prepare talks spending im...\n",
       "6   politicsNews   true  trump says russia probe fair timeline unclear ...\n",
       "7   politicsNews   true  factbox trump twitter dec 29 approval rating a...\n",
       "8   politicsNews   true  trump twitter dec 28 global warming following ...\n",
       "9   politicsNews   true  alabama official certify senatorelect jones to...\n",
       "10  politicsNews   true  jones certified US senate winner despite moore...\n",
       "11  politicsNews   true  new york governor questions constitutionality ...\n",
       "12  politicsNews   true  factbox trump twitter dec 28 vanity fair hilla...\n",
       "13  politicsNews   true  trump twitter dec 27 trump iraq syria followin...\n",
       "14  politicsNews   true  man says delivered manure mnuchin protest new ...\n",
       "15  politicsNews   true  virginia officials postpone lottery drawing de...\n",
       "16  politicsNews   true  US lawmakers question businessman 2016 trump t...\n",
       "17  politicsNews   true  trump twitter dec 26 hillary clinton tax cut b...\n",
       "18  politicsNews   true  US appeals court rejects challenge trump voter...\n",
       "19  politicsNews   true  treasury secretary mnuchin sent giftwrapped bo..."
      ]
     },
     "execution_count": 278,
     "metadata": {},
     "output_type": "execute_result"
    }
   ],
   "source": [
    "df_combined.head(20)"
   ]
  },
  {
   "cell_type": "code",
   "execution_count": 279,
   "metadata": {},
   "outputs": [
    {
     "name": "stderr",
     "output_type": "stream",
     "text": [
      "[nltk_data] Downloading package punkt to\n",
      "[nltk_data]     C:\\Users\\kelly\\AppData\\Roaming\\nltk_data...\n",
      "[nltk_data]   Package punkt is already up-to-date!\n"
     ]
    }
   ],
   "source": [
    "#Tokenize total text column\n",
    "from nltk import tokenize\n",
    "nltk.download('punkt')\n",
    "from nltk.tokenize import WhitespaceTokenizer\n",
    "\n",
    "df_combined['tokens'] = df_combined['total_text'].apply(nltk.WhitespaceTokenizer().tokenize)"
   ]
  },
  {
   "cell_type": "code",
   "execution_count": 280,
   "metadata": {},
   "outputs": [
    {
     "data": {
      "text/html": [
       "<div>\n",
       "<style scoped>\n",
       "    .dataframe tbody tr th:only-of-type {\n",
       "        vertical-align: middle;\n",
       "    }\n",
       "\n",
       "    .dataframe tbody tr th {\n",
       "        vertical-align: top;\n",
       "    }\n",
       "\n",
       "    .dataframe thead th {\n",
       "        text-align: right;\n",
       "    }\n",
       "</style>\n",
       "<table border=\"1\" class=\"dataframe\">\n",
       "  <thead>\n",
       "    <tr style=\"text-align: right;\">\n",
       "      <th></th>\n",
       "      <th>subject</th>\n",
       "      <th>target</th>\n",
       "      <th>total_text</th>\n",
       "      <th>tokens</th>\n",
       "    </tr>\n",
       "  </thead>\n",
       "  <tbody>\n",
       "    <tr>\n",
       "      <th>0</th>\n",
       "      <td>politicsNews</td>\n",
       "      <td>true</td>\n",
       "      <td>US budget fight looms republicans flip fiscal ...</td>\n",
       "      <td>[US, budget, fight, looms, republicans, flip, ...</td>\n",
       "    </tr>\n",
       "    <tr>\n",
       "      <th>1</th>\n",
       "      <td>politicsNews</td>\n",
       "      <td>true</td>\n",
       "      <td>US military accept transgender recruits monday...</td>\n",
       "      <td>[US, military, accept, transgender, recruits, ...</td>\n",
       "    </tr>\n",
       "    <tr>\n",
       "      <th>2</th>\n",
       "      <td>politicsNews</td>\n",
       "      <td>true</td>\n",
       "      <td>senior US republican senator let mr mueller jo...</td>\n",
       "      <td>[senior, US, republican, senator, let, mr, mue...</td>\n",
       "    </tr>\n",
       "    <tr>\n",
       "      <th>3</th>\n",
       "      <td>politicsNews</td>\n",
       "      <td>true</td>\n",
       "      <td>fbi russia probe helped australian diplomat ti...</td>\n",
       "      <td>[fbi, russia, probe, helped, australian, diplo...</td>\n",
       "    </tr>\n",
       "    <tr>\n",
       "      <th>4</th>\n",
       "      <td>politicsNews</td>\n",
       "      <td>true</td>\n",
       "      <td>trump wants postal service charge much amazon ...</td>\n",
       "      <td>[trump, wants, postal, service, charge, much, ...</td>\n",
       "    </tr>\n",
       "  </tbody>\n",
       "</table>\n",
       "</div>"
      ],
      "text/plain": [
       "        subject target                                         total_text  \\\n",
       "0  politicsNews   true  US budget fight looms republicans flip fiscal ...   \n",
       "1  politicsNews   true  US military accept transgender recruits monday...   \n",
       "2  politicsNews   true  senior US republican senator let mr mueller jo...   \n",
       "3  politicsNews   true  fbi russia probe helped australian diplomat ti...   \n",
       "4  politicsNews   true  trump wants postal service charge much amazon ...   \n",
       "\n",
       "                                              tokens  \n",
       "0  [US, budget, fight, looms, republicans, flip, ...  \n",
       "1  [US, military, accept, transgender, recruits, ...  \n",
       "2  [senior, US, republican, senator, let, mr, mue...  \n",
       "3  [fbi, russia, probe, helped, australian, diplo...  \n",
       "4  [trump, wants, postal, service, charge, much, ...  "
      ]
     },
     "execution_count": 280,
     "metadata": {},
     "output_type": "execute_result"
    }
   ],
   "source": [
    "df_combined.head()"
   ]
  },
  {
   "cell_type": "code",
   "execution_count": 281,
   "metadata": {},
   "outputs": [
    {
     "name": "stderr",
     "output_type": "stream",
     "text": [
      "[nltk_data] Downloading package wordnet to\n",
      "[nltk_data]     C:\\Users\\kelly\\AppData\\Roaming\\nltk_data...\n",
      "[nltk_data]   Package wordnet is already up-to-date!\n"
     ]
    }
   ],
   "source": [
    "#Lemmatize text\n",
    "from nltk.stem import WordNetLemmatizer\n",
    "nltk.download('wordnet')\n",
    "\n",
    "lemmatizer = WordNetLemmatizer()\n",
    "\n",
    "def lemmatize_text(text):\n",
    "    lemmatizer = WordNetLemmatizer()\n",
    "    return [lemmatizer.lemmatize(w) for w in text]\n",
    "\n",
    "df_combined['tokens'] = df_combined['tokens'].apply(lemmatize_text)"
   ]
  },
  {
   "cell_type": "code",
   "execution_count": 282,
   "metadata": {},
   "outputs": [
    {
     "name": "stdout",
     "output_type": "stream",
     "text": [
      "u\n"
     ]
    }
   ],
   "source": [
    "#'us' is not being lemmatized properly\n",
    "print(lemmatizer.lemmatize('us'))"
   ]
  },
  {
   "cell_type": "code",
   "execution_count": 283,
   "metadata": {},
   "outputs": [],
   "source": [
    "#replace 'u' with 'us'\n",
    "import re\n",
    "\n",
    "df_combined['tokens'] = [[re.sub(r'\\bu\\b', 'us', item) for item in sub_list] for sub_list in df_combined['tokens']]"
   ]
  },
  {
   "cell_type": "code",
   "execution_count": 284,
   "metadata": {},
   "outputs": [
    {
     "data": {
      "text/html": [
       "<div>\n",
       "<style scoped>\n",
       "    .dataframe tbody tr th:only-of-type {\n",
       "        vertical-align: middle;\n",
       "    }\n",
       "\n",
       "    .dataframe tbody tr th {\n",
       "        vertical-align: top;\n",
       "    }\n",
       "\n",
       "    .dataframe thead th {\n",
       "        text-align: right;\n",
       "    }\n",
       "</style>\n",
       "<table border=\"1\" class=\"dataframe\">\n",
       "  <thead>\n",
       "    <tr style=\"text-align: right;\">\n",
       "      <th></th>\n",
       "      <th>subject</th>\n",
       "      <th>target</th>\n",
       "      <th>total_text</th>\n",
       "      <th>tokens</th>\n",
       "    </tr>\n",
       "  </thead>\n",
       "  <tbody>\n",
       "    <tr>\n",
       "      <th>0</th>\n",
       "      <td>News</td>\n",
       "      <td>false</td>\n",
       "      <td>donald trump sends embarrassing new years eve ...</td>\n",
       "      <td>[donald, trump, sends, embarrassing, new, year...</td>\n",
       "    </tr>\n",
       "    <tr>\n",
       "      <th>1</th>\n",
       "      <td>News</td>\n",
       "      <td>false</td>\n",
       "      <td>drunk bragging trump staffer started russian c...</td>\n",
       "      <td>[drunk, bragging, trump, staffer, started, rus...</td>\n",
       "    </tr>\n",
       "    <tr>\n",
       "      <th>2</th>\n",
       "      <td>News</td>\n",
       "      <td>false</td>\n",
       "      <td>sheriff david clarke becomes internet joke thr...</td>\n",
       "      <td>[sheriff, david, clarke, becomes, internet, jo...</td>\n",
       "    </tr>\n",
       "    <tr>\n",
       "      <th>3</th>\n",
       "      <td>News</td>\n",
       "      <td>false</td>\n",
       "      <td>trump obsessed even obamas name coded website ...</td>\n",
       "      <td>[trump, obsessed, even, obamas, name, coded, w...</td>\n",
       "    </tr>\n",
       "    <tr>\n",
       "      <th>4</th>\n",
       "      <td>News</td>\n",
       "      <td>false</td>\n",
       "      <td>pope francis called donald trump christmas spe...</td>\n",
       "      <td>[pope, francis, called, donald, trump, christm...</td>\n",
       "    </tr>\n",
       "    <tr>\n",
       "      <th>5</th>\n",
       "      <td>News</td>\n",
       "      <td>false</td>\n",
       "      <td>racist alabama cops brutalize black boy handcu...</td>\n",
       "      <td>[racist, alabama, cop, brutalize, black, boy, ...</td>\n",
       "    </tr>\n",
       "    <tr>\n",
       "      <th>6</th>\n",
       "      <td>News</td>\n",
       "      <td>false</td>\n",
       "      <td>fresh golf course trump lashes fbi deputy dire...</td>\n",
       "      <td>[fresh, golf, course, trump, lash, fbi, deputy...</td>\n",
       "    </tr>\n",
       "    <tr>\n",
       "      <th>7</th>\n",
       "      <td>News</td>\n",
       "      <td>false</td>\n",
       "      <td>trump said insanely racist stuff inside oval o...</td>\n",
       "      <td>[trump, said, insanely, racist, stuff, inside,...</td>\n",
       "    </tr>\n",
       "    <tr>\n",
       "      <th>8</th>\n",
       "      <td>News</td>\n",
       "      <td>false</td>\n",
       "      <td>former cia director slams trump un bullying op...</td>\n",
       "      <td>[former, cia, director, slam, trump, un, bully...</td>\n",
       "    </tr>\n",
       "    <tr>\n",
       "      <th>9</th>\n",
       "      <td>News</td>\n",
       "      <td>false</td>\n",
       "      <td>watch brandnew protrump ad features much kissi...</td>\n",
       "      <td>[watch, brandnew, protrump, ad, feature, much,...</td>\n",
       "    </tr>\n",
       "    <tr>\n",
       "      <th>10</th>\n",
       "      <td>News</td>\n",
       "      <td>false</td>\n",
       "      <td>papa johns founder retires figures racism bad ...</td>\n",
       "      <td>[papa, john, founder, retires, figure, racism,...</td>\n",
       "    </tr>\n",
       "    <tr>\n",
       "      <th>11</th>\n",
       "      <td>News</td>\n",
       "      <td>false</td>\n",
       "      <td>watch paul ryan told us doesnt care struggling...</td>\n",
       "      <td>[watch, paul, ryan, told, us, doesnt, care, st...</td>\n",
       "    </tr>\n",
       "    <tr>\n",
       "      <th>12</th>\n",
       "      <td>News</td>\n",
       "      <td>false</td>\n",
       "      <td>bad news trump mitch mcconnell says repealing ...</td>\n",
       "      <td>[bad, news, trump, mitch, mcconnell, say, repe...</td>\n",
       "    </tr>\n",
       "    <tr>\n",
       "      <th>13</th>\n",
       "      <td>News</td>\n",
       "      <td>false</td>\n",
       "      <td>watch lindsey graham trashes media portraying ...</td>\n",
       "      <td>[watch, lindsey, graham, trash, medium, portra...</td>\n",
       "    </tr>\n",
       "    <tr>\n",
       "      <th>14</th>\n",
       "      <td>News</td>\n",
       "      <td>false</td>\n",
       "      <td>heiress disney empire knows gop scammed us shr...</td>\n",
       "      <td>[heiress, disney, empire, know, gop, scammed, ...</td>\n",
       "    </tr>\n",
       "    <tr>\n",
       "      <th>15</th>\n",
       "      <td>News</td>\n",
       "      <td>false</td>\n",
       "      <td>tone deaf trump congrats rep scalise losing we...</td>\n",
       "      <td>[tone, deaf, trump, congrats, rep, scalise, lo...</td>\n",
       "    </tr>\n",
       "    <tr>\n",
       "      <th>16</th>\n",
       "      <td>News</td>\n",
       "      <td>false</td>\n",
       "      <td>internet brutally mocks disneys new trump robo...</td>\n",
       "      <td>[internet, brutally, mock, disney, new, trump,...</td>\n",
       "    </tr>\n",
       "    <tr>\n",
       "      <th>17</th>\n",
       "      <td>News</td>\n",
       "      <td>false</td>\n",
       "      <td>mueller spokesman fcked donald trumps christma...</td>\n",
       "      <td>[mueller, spokesman, fcked, donald, trump, chr...</td>\n",
       "    </tr>\n",
       "    <tr>\n",
       "      <th>18</th>\n",
       "      <td>News</td>\n",
       "      <td>false</td>\n",
       "      <td>snl hilariously mocks accused child molester r...</td>\n",
       "      <td>[snl, hilariously, mock, accused, child, moles...</td>\n",
       "    </tr>\n",
       "    <tr>\n",
       "      <th>19</th>\n",
       "      <td>News</td>\n",
       "      <td>false</td>\n",
       "      <td>republican senator gets dragged going robert m...</td>\n",
       "      <td>[republican, senator, get, dragged, going, rob...</td>\n",
       "    </tr>\n",
       "  </tbody>\n",
       "</table>\n",
       "</div>"
      ],
      "text/plain": [
       "   subject target                                         total_text  \\\n",
       "0     News  false  donald trump sends embarrassing new years eve ...   \n",
       "1     News  false  drunk bragging trump staffer started russian c...   \n",
       "2     News  false  sheriff david clarke becomes internet joke thr...   \n",
       "3     News  false  trump obsessed even obamas name coded website ...   \n",
       "4     News  false  pope francis called donald trump christmas spe...   \n",
       "5     News  false  racist alabama cops brutalize black boy handcu...   \n",
       "6     News  false  fresh golf course trump lashes fbi deputy dire...   \n",
       "7     News  false  trump said insanely racist stuff inside oval o...   \n",
       "8     News  false  former cia director slams trump un bullying op...   \n",
       "9     News  false  watch brandnew protrump ad features much kissi...   \n",
       "10    News  false  papa johns founder retires figures racism bad ...   \n",
       "11    News  false  watch paul ryan told us doesnt care struggling...   \n",
       "12    News  false  bad news trump mitch mcconnell says repealing ...   \n",
       "13    News  false  watch lindsey graham trashes media portraying ...   \n",
       "14    News  false  heiress disney empire knows gop scammed us shr...   \n",
       "15    News  false  tone deaf trump congrats rep scalise losing we...   \n",
       "16    News  false  internet brutally mocks disneys new trump robo...   \n",
       "17    News  false  mueller spokesman fcked donald trumps christma...   \n",
       "18    News  false  snl hilariously mocks accused child molester r...   \n",
       "19    News  false  republican senator gets dragged going robert m...   \n",
       "\n",
       "                                               tokens  \n",
       "0   [donald, trump, sends, embarrassing, new, year...  \n",
       "1   [drunk, bragging, trump, staffer, started, rus...  \n",
       "2   [sheriff, david, clarke, becomes, internet, jo...  \n",
       "3   [trump, obsessed, even, obamas, name, coded, w...  \n",
       "4   [pope, francis, called, donald, trump, christm...  \n",
       "5   [racist, alabama, cop, brutalize, black, boy, ...  \n",
       "6   [fresh, golf, course, trump, lash, fbi, deputy...  \n",
       "7   [trump, said, insanely, racist, stuff, inside,...  \n",
       "8   [former, cia, director, slam, trump, un, bully...  \n",
       "9   [watch, brandnew, protrump, ad, feature, much,...  \n",
       "10  [papa, john, founder, retires, figure, racism,...  \n",
       "11  [watch, paul, ryan, told, us, doesnt, care, st...  \n",
       "12  [bad, news, trump, mitch, mcconnell, say, repe...  \n",
       "13  [watch, lindsey, graham, trash, medium, portra...  \n",
       "14  [heiress, disney, empire, know, gop, scammed, ...  \n",
       "15  [tone, deaf, trump, congrats, rep, scalise, lo...  \n",
       "16  [internet, brutally, mock, disney, new, trump,...  \n",
       "17  [mueller, spokesman, fcked, donald, trump, chr...  \n",
       "18  [snl, hilariously, mock, accused, child, moles...  \n",
       "19  [republican, senator, get, dragged, going, rob...  "
      ]
     },
     "execution_count": 284,
     "metadata": {},
     "output_type": "execute_result"
    }
   ],
   "source": [
    "df_combined.query('target == \"false\"').head(20)"
   ]
  },
  {
   "cell_type": "code",
   "execution_count": 285,
   "metadata": {},
   "outputs": [
    {
     "data": {
      "text/plain": [
       "[('said', 99053),\n",
       " ('trump', 59768),\n",
       " ('US', 42143),\n",
       " ('state', 37190),\n",
       " ('would', 31750),\n",
       " ('reuters', 28464),\n",
       " ('president', 27500),\n",
       " ('republican', 23082),\n",
       " ('government', 19878),\n",
       " ('year', 18967),\n",
       " ('house', 18380),\n",
       " ('new', 17661),\n",
       " ('also', 15963),\n",
       " ('united', 15622),\n",
       " ('people', 15432),\n",
       " ('party', 15403),\n",
       " ('official', 15128),\n",
       " ('election', 14535),\n",
       " ('told', 14285),\n",
       " ('country', 14163)]"
      ]
     },
     "execution_count": 285,
     "metadata": {},
     "output_type": "execute_result"
    }
   ],
   "source": [
    "#Find most common words in true news\n",
    "from itertools import chain\n",
    "from collections import Counter\n",
    "\n",
    "true = df_combined.query('target == \"true\"')\n",
    "\n",
    "true_words = true['tokens']\n",
    "\n",
    "true_word_counts = Counter(chain.from_iterable(true_words)).most_common(20)\n",
    "true_word_counts"
   ]
  },
  {
   "cell_type": "code",
   "execution_count": 286,
   "metadata": {},
   "outputs": [
    {
     "data": {
      "image/png": "[encoded data removed]",
      "text/plain": [
       "<Figure size 1080x720 with 1 Axes>"
      ]
     },
     "metadata": {
      "needs_background": "light"
     },
     "output_type": "display_data"
    }
   ],
   "source": [
    "#plot most common words in true news\n",
    "names, values = zip(*true_word_counts) \n",
    "# names = [x[0] for x in true_word_counts]\n",
    "# values = [x[1] for x in true_word_counts]   \n",
    "\n",
    "ind = np.arange(len(true_word_counts))  # the x locations for the groups\n",
    "width = 0.6      # the width of the bars\n",
    "\n",
    "fig, ax = plt.subplots(figsize = (15,10))\n",
    "true_plot = ax.bar(ind, values, width, color='r', align='edge')\n",
    "\n",
    "plt.title('Most Commom Words Used in True News', x=0.5, y=0.95, fontsize = 18)\n",
    "ax.set_ylabel('Count', fontsize = 15)\n",
    "ax.set_xlabel('Word', fontsize = 15)\n",
    "ax.set_xticks(ind+width/2.)\n",
    "ax.set_xticklabels(names)\n",
    "plt.xticks(rotation='vertical')\n",
    "plt.show()"
   ]
  },
  {
   "cell_type": "code",
   "execution_count": 287,
   "metadata": {},
   "outputs": [
    {
     "data": {
      "text/plain": [
       "[('trump', 82423),\n",
       " ('said', 31199),\n",
       " ('president', 27172),\n",
       " ('people', 26529),\n",
       " ('one', 24273),\n",
       " ('would', 23672),\n",
       " ('state', 22523),\n",
       " ('clinton', 19731),\n",
       " ('obama', 19570),\n",
       " ('like', 18529),\n",
       " ('time', 18087),\n",
       " ('donald', 17940),\n",
       " ('video', 16939),\n",
       " ('republican', 16858),\n",
       " ('american', 16692),\n",
       " ('say', 16163),\n",
       " ('hillary', 15718),\n",
       " ('us', 15689),\n",
       " ('also', 15247),\n",
       " ('year', 15066)]"
      ]
     },
     "execution_count": 287,
     "metadata": {},
     "output_type": "execute_result"
    }
   ],
   "source": [
    "#Find most common words in false news\n",
    "false = df_combined.query('target == \"false\"')\n",
    "\n",
    "false_words = false['tokens']\n",
    "\n",
    "false_word_counts = Counter(chain.from_iterable(false_words)).most_common(20)\n",
    "false_word_counts"
   ]
  },
  {
   "cell_type": "code",
   "execution_count": 288,
   "metadata": {},
   "outputs": [
    {
     "data": {
      "image/png": "[encoded data removed]",
      "text/plain": [
       "<Figure size 1080x720 with 1 Axes>"
      ]
     },
     "metadata": {
      "needs_background": "light"
     },
     "output_type": "display_data"
    }
   ],
   "source": [
    "#plot most common words in false news\n",
    "names, values = zip(*false_word_counts) \n",
    "\n",
    "ind = np.arange(len(false_word_counts))\n",
    "width = 0.6 \n",
    "\n",
    "fig, ax = plt.subplots(figsize = (15,10))\n",
    "false_plot = ax.bar(ind, values, width, color='r', align='edge')\n",
    "\n",
    "plt.title('Most Commom Words Used in False News', x=0.5, y=0.95, fontsize = 18)\n",
    "ax.set_ylabel('Count', fontsize = 15)\n",
    "ax.set_xlabel('Word', fontsize = 15)\n",
    "ax.set_xticks(ind+width/2.)\n",
    "ax.set_xticklabels(names)\n",
    "plt.xticks(rotation='vertical')\n",
    "plt.show()"
   ]
  },
  {
   "cell_type": "markdown",
   "metadata": {},
   "source": [
    "### Exploration"
   ]
  },
  {
   "cell_type": "code",
   "execution_count": 299,
   "metadata": {},
   "outputs": [
    {
     "data": {
      "image/png": "[encoded data removed]",
      "text/plain": [
       "<Figure size 864x576 with 1 Axes>"
      ]
     },
     "metadata": {
      "needs_background": "light"
     },
     "output_type": "display_data"
    }
   ],
   "source": [
    "plt.subplots(figsize=(12,8))\n",
    "df_combined['subject'].hist();"
   ]
  },
  {
   "cell_type": "code",
   "execution_count": 290,
   "metadata": {},
   "outputs": [
    {
     "data": {
      "image/png": "[encoded data removed]",
      "text/plain": [
       "<Figure size 432x288 with 1 Axes>"
      ]
     },
     "metadata": {
      "needs_background": "light"
     },
     "output_type": "display_data"
    }
   ],
   "source": [
    "df_combined['target'].hist();"
   ]
  },
  {
   "cell_type": "code",
   "execution_count": 291,
   "metadata": {},
   "outputs": [
    {
     "data": {
      "image/png": "[encoded data removed]",
      "text/plain": [
       "<Figure size 864x576 with 1 Axes>"
      ]
     },
     "metadata": {
      "needs_background": "light"
     },
     "output_type": "display_data"
    }
   ],
   "source": [
    "plt.subplots(figsize=(12,8))\n",
    "sns.histplot(data=df_combined, x='subject', hue='target');"
   ]
  },
  {
   "cell_type": "markdown",
   "metadata": {},
   "source": [
    "### Train, Test, Split"
   ]
  },
  {
   "cell_type": "code",
   "execution_count": 300,
   "metadata": {},
   "outputs": [],
   "source": [
    "from sklearn.model_selection import train_test_split"
   ]
  },
  {
   "cell_type": "code",
   "execution_count": 303,
   "metadata": {},
   "outputs": [],
   "source": [
    "X = df_combined.drop('target', axis=1)\n",
    "y = df_combined['target']"
   ]
  },
  {
   "cell_type": "raw",
   "metadata": {},
   "source": [
    "X_train, X_test, y_train, y_test = train_test_split(X, y, test_size = 0.3, random_state=101)"
   ]
  },
  {
   "cell_type": "markdown",
   "metadata": {},
   "source": [
    "### Logistic Regression"
   ]
  },
  {
   "cell_type": "code",
   "execution_count": null,
   "metadata": {},
   "outputs": [],
   "source": []
  }
 ],
 "metadata": {
  "kernelspec": {
   "display_name": "Python 3",
   "language": "python",
   "name": "python3"
  },
  "language_info": {
   "codemirror_mode": {
    "name": "ipython",
    "version": 3
   },
   "file_extension": ".py",
   "mimetype": "text/x-python",
   "name": "python",
   "nbconvert_exporter": "python",
   "pygments_lexer": "ipython3",
   "version": "3.7.7"
  }
 },
 "nbformat": 4,
 "nbformat_minor": 4
}
